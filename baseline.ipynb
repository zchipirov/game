{
  "nbformat": 4,
  "nbformat_minor": 0,
  "metadata": {
    "colab": {
      "provenance": [],
      "authorship_tag": "ABX9TyN6vVgWfXIal+mu60X9wRdG",
      "include_colab_link": true
    },
    "kernelspec": {
      "name": "python3",
      "display_name": "Python 3"
    },
    "language_info": {
      "name": "python"
    }
  },
  "cells": [
    {
      "cell_type": "markdown",
      "metadata": {
        "id": "view-in-github",
        "colab_type": "text"
      },
      "source": [
        "<a href=\"https://colab.research.google.com/github/zchipirov/game/blob/main/baseline.ipynb\" target=\"_parent\"><img src=\"https://colab.research.google.com/assets/colab-badge.svg\" alt=\"Open In Colab\"/></a>"
      ]
    },
    {
      "cell_type": "code",
      "execution_count": 1,
      "metadata": {
        "colab": {
          "base_uri": "https://localhost:8080/"
        },
        "id": "hrKHKu9wn8tx",
        "outputId": "3b5bc1df-49b4-4181-c2d8-7fc01864d41b"
      },
      "outputs": [
        {
          "output_type": "stream",
          "name": "stdout",
          "text": [
            "Ваш алгоритм угадывает число в среднем за:5 попыток\n"
          ]
        }
      ],
      "source": [
        "\"\"\"Игра угадай число\n",
        "Компьютер сам загадывает и сам угадывает число\n",
        "\"\"\"\n",
        "\n",
        "import numpy as np\n",
        "\n",
        "\n",
        "def random_predict(number: int = 1) -> int:\n",
        "    \"\"\"I'm use the binary search algorithm. He is the very fast and simple\n",
        "    \n",
        "    Args:\n",
        "        number (int, optional): Hidden number. Defaults to 1.\n",
        "\n",
        "    Returns:\n",
        "        int: Count of attempts\n",
        "    \"\"\"\n",
        "    count = 0\n",
        "    low = 1\n",
        "    high = 100\n",
        "    while low <= high:\n",
        "        count += 1\n",
        "        middle = int((low + high)/2)\n",
        "        if middle == number: \n",
        "            break\n",
        "        elif middle < number: \n",
        "            low = middle + 1\n",
        "        elif middle > number: \n",
        "            high = middle - 1\n",
        "    return count\n",
        "\n",
        "\n",
        "def score_game(random_predict) -> int:\n",
        "    \"\"\"За какое количество попыток в среднем за 1000 подходов угадывает наш алгоритм\n",
        "\n",
        "    Args:\n",
        "        random_predict ([type]): функция угадывания\n",
        "\n",
        "    Returns:\n",
        "        int: среднее количество попыток\n",
        "    \"\"\"\n",
        "    count_ls = []\n",
        "    #np.random.seed(1)  # фиксируем сид для воспроизводимости\n",
        "    random_array = np.random.randint(1, 101, size=(1000))  # загадали список чисел\n",
        "\n",
        "    for number in random_array:\n",
        "        count_ls.append(random_predict(number))\n",
        "\n",
        "    score = int(np.mean(count_ls))\n",
        "    print(f\"Ваш алгоритм угадывает число в среднем за:{score} попыток\")\n",
        "    return score\n",
        "\n",
        "\n",
        "if __name__ == \"__main__\":\n",
        "    # RUN\n",
        "    score_game(random_predict)\n"
      ]
    }
  ]
}